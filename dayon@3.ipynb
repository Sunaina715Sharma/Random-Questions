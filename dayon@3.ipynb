{
 "cells": [
  {
   "cell_type": "code",
   "execution_count": 1,
   "id": "a1257ab6",
   "metadata": {},
   "outputs": [],
   "source": [
    "# to check whether the given string is palindrom or not"
   ]
  },
  {
   "cell_type": "code",
   "execution_count": 2,
   "id": "1617916c",
   "metadata": {},
   "outputs": [],
   "source": [
    "string = 'khoohk'\n",
    "half = int(len(string) / 2)\n",
    " "
   ]
  },
  {
   "cell_type": "code",
   "execution_count": 3,
   "id": "818f484b",
   "metadata": {},
   "outputs": [],
   "source": [
    "if len(string) % 2 == 0:  # even\n",
    "    first_str = string[:half]\n",
    "    second_str = string[half:]\n",
    "else:  # odd\n",
    "    first_str = string[:half]\n",
    "    second_str = string[half+1:]"
   ]
  },
  {
   "cell_type": "code",
   "execution_count": 4,
   "id": "a1329e0a",
   "metadata": {},
   "outputs": [
    {
     "name": "stdout",
     "output_type": "stream",
     "text": [
      "khoohk string is not symmertical\n"
     ]
    }
   ],
   "source": [
    "# symmetric\n",
    "if first_str == second_str:\n",
    "    print(string, 'string is symmertical')\n",
    "else:\n",
    "    print(string, 'string is not symmertical')"
   ]
  }
 ],
 "metadata": {
  "kernelspec": {
   "display_name": "Python 3 (ipykernel)",
   "language": "python",
   "name": "python3"
  },
  "language_info": {
   "codemirror_mode": {
    "name": "ipython",
    "version": 3
   },
   "file_extension": ".py",
   "mimetype": "text/x-python",
   "name": "python",
   "nbconvert_exporter": "python",
   "pygments_lexer": "ipython3",
   "version": "3.9.7"
  }
 },
 "nbformat": 4,
 "nbformat_minor": 5
}
