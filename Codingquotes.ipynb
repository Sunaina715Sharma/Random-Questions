{
 "cells": [
  {
   "cell_type": "code",
   "execution_count": 3,
   "id": "bf35b7e0",
   "metadata": {},
   "outputs": [
    {
     "name": "stdout",
     "output_type": "stream",
     "text": [
      "Enter the value of a :2\n",
      "Enter the value of b :6\n",
      "Values before swapping\n",
      "a =  2 and b =  6\n"
     ]
    }
   ],
   "source": [
    "# python programs to swap two variables using temporary variables\n",
    "\n",
    "a = input(\"Enter the value of a :\")\n",
    "b = input(\"Enter the value of b :\")\n",
    "print(\"Values before swapping\")\n",
    "print('a = ',a, \"and b = \",b)"
   ]
  },
  {
   "cell_type": "code",
   "execution_count": 5,
   "id": "4de60907",
   "metadata": {},
   "outputs": [
    {
     "name": "stdout",
     "output_type": "stream",
     "text": [
      "Values after swapping\n",
      "a =  2 and b =  6\n"
     ]
    }
   ],
   "source": [
    "temp = a\n",
    "a = b\n",
    "b = temp\n",
    "print(\"Values after swapping\")\n",
    "print(\"a = \",a, \"and b = \",b)"
   ]
  },
  {
   "cell_type": "code",
   "execution_count": null,
   "id": "97e8ab86",
   "metadata": {},
   "outputs": [],
   "source": []
  }
 ],
 "metadata": {
  "kernelspec": {
   "display_name": "Python 3 (ipykernel)",
   "language": "python",
   "name": "python3"
  },
  "language_info": {
   "codemirror_mode": {
    "name": "ipython",
    "version": 3
   },
   "file_extension": ".py",
   "mimetype": "text/x-python",
   "name": "python",
   "nbconvert_exporter": "python",
   "pygments_lexer": "ipython3",
   "version": "3.9.7"
  }
 },
 "nbformat": 4,
 "nbformat_minor": 5
}
