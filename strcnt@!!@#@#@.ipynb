{
 "cells": [
  {
   "cell_type": "code",
   "execution_count": null,
   "id": "c1eda2a1",
   "metadata": {},
   "outputs": [],
   "source": [
    "# Counting Characters in a string"
   ]
  },
  {
   "cell_type": "code",
   "execution_count": 2,
   "id": "9b7dbb9f",
   "metadata": {},
   "outputs": [],
   "source": [
    "from collections import Counter"
   ]
  },
  {
   "cell_type": "code",
   "execution_count": 15,
   "id": "44c6f788",
   "metadata": {},
   "outputs": [],
   "source": [
    "s = \"SunainaSharma\""
   ]
  },
  {
   "cell_type": "code",
   "execution_count": 3,
   "id": "1fd1d566",
   "metadata": {},
   "outputs": [
    {
     "data": {
      "text/plain": [
       "Counter({'S': 2, 'u': 1, 'n': 2, 'a': 4, 'i': 1, 'h': 1, 'r': 1, 'm': 1})"
      ]
     },
     "execution_count": 3,
     "metadata": {},
     "output_type": "execute_result"
    }
   ],
   "source": [
    "Counter(s)"
   ]
  },
  {
   "cell_type": "code",
   "execution_count": 7,
   "id": "35cccbc5",
   "metadata": {},
   "outputs": [
    {
     "name": "stdout",
     "output_type": "stream",
     "text": [
      "Input string 1: she sells seashells by the seashore\n",
      "s  character has occured  8 times\n"
     ]
    }
   ],
   "source": [
    "def countOccurence(str1,ch):\n",
    "    c = 0\n",
    "    for i in str1:\n",
    "        if i==ch:\n",
    "            c= c+1\n",
    "    return c\n",
    "str1 = \"she sells seashells by the seashore\"\n",
    "ch = \"s\"\n",
    "print(\"Input string 1:\",str1)\n",
    "print(ch,\" character has occured \",countOccurence(str1,ch),\"times\")"
   ]
  },
  {
   "cell_type": "code",
   "execution_count": 13,
   "id": "1366629f",
   "metadata": {},
   "outputs": [
    {
     "name": "stdout",
     "output_type": "stream",
     "text": [
      "text contains  p Character 28 times\n"
     ]
    }
   ],
   "source": [
    "def countstr(text,ch):\n",
    "    c = 0\n",
    "    for i in text:\n",
    "        if i == ch:\n",
    "            c=c+1\n",
    "    return c\n",
    "text = \"Peter Piper picked a peck of pickled peppers,A peck of pickled peppers Peter Piper picked,If Peter Piper picked a peck of pickled peppers,Where’s the peck of pickled peppers Peter Piper picked?\"\n",
    "ch = \"p\"\n",
    "print(\"text contains \",ch,\"Character\",countstr(text,ch),\"times\")"
   ]
  },
  {
   "cell_type": "code",
   "execution_count": 14,
   "id": "b5d3695b",
   "metadata": {},
   "outputs": [
    {
     "name": "stdout",
     "output_type": "stream",
     "text": [
      "Input string 1: Fuzzy Wuzzy was a bear. Fuzzy Wuzzy had no hair. Fuzzy Wuzzy wasn’t fuzzy, was he\n",
      "z  character has occured  14 times\n"
     ]
    }
   ],
   "source": [
    "def countOccurence(str1,ch):\n",
    "    c = 0\n",
    "    for i in str1:\n",
    "        if i==ch:\n",
    "            c= c+1\n",
    "    return c\n",
    "str1 = \"Fuzzy Wuzzy was a bear. Fuzzy Wuzzy had no hair. Fuzzy Wuzzy wasn’t fuzzy, was he\"\n",
    "ch = \"z\"\n",
    "print(\"Input string 1:\",str1)\n",
    "print(ch,\" character has occured \",countOccurence(str1,ch),\"times\")"
   ]
  },
  {
   "cell_type": "code",
   "execution_count": null,
   "id": "6ef38378",
   "metadata": {},
   "outputs": [],
   "source": [
    "mystr = \"thisisit\"\n",
    "while myStr != \"\":\n",
    "    slen0 = len(myStr)\n",
    "    ch = myStr[0]\n",
    "    myStr = myStr.replace(ch, \"\")\n",
    "    slen1 = len(myStr)\n",
    "    if slen1 == slen0-1:\n",
    "        print (\"First non-repeating character = \",ch)\n",
    "        break;\n",
    "    else:\n",
    "        print (\"No Unique Character Found!\")"
   ]
  },
  {
   "cell_type": "code",
   "execution_count": null,
   "id": "4f4a7df8",
   "metadata": {},
   "outputs": [],
   "source": [
    "x = \"thisisit\"\n",
    "while x!= \"\":\n",
    "    length1 = len(x)\n",
    "    ch = x[0]\n",
    "    x1 = x.replace(ch,\"\")\n",
    "    length2 = len(x)\n",
    "    if length2 == length1-1:\n",
    "        print(\"First non-repeating character = \",ch)\n",
    "        break;\n",
    "else:\n",
    "        print(\"No unique character found\")"
   ]
  },
  {
   "cell_type": "code",
   "execution_count": null,
   "id": "03886c24",
   "metadata": {},
   "outputs": [],
   "source": []
  }
 ],
 "metadata": {
  "kernelspec": {
   "display_name": "Python 3 (ipykernel)",
   "language": "python",
   "name": "python3"
  },
  "language_info": {
   "codemirror_mode": {
    "name": "ipython",
    "version": 3
   },
   "file_extension": ".py",
   "mimetype": "text/x-python",
   "name": "python",
   "nbconvert_exporter": "python",
   "pygments_lexer": "ipython3",
   "version": "3.9.7"
  }
 },
 "nbformat": 4,
 "nbformat_minor": 5
}
