{
 "cells": [
  {
   "cell_type": "code",
   "execution_count": 1,
   "id": "61ce591a",
   "metadata": {
    "_cell_guid": "b1076dfc-b9ad-4769-8c92-a6c4dae69d19",
    "_uuid": "8f2839f25d086af736a60e9eeb907d3b93b6e0e5",
    "execution": {
     "iopub.execute_input": "2022-10-01T15:07:47.896056Z",
     "iopub.status.busy": "2022-10-01T15:07:47.894888Z",
     "iopub.status.idle": "2022-10-01T15:07:47.916005Z",
     "shell.execute_reply": "2022-10-01T15:07:47.914794Z"
    },
    "papermill": {
     "duration": 0.037855,
     "end_time": "2022-10-01T15:07:47.920564",
     "exception": false,
     "start_time": "2022-10-01T15:07:47.882709",
     "status": "completed"
    },
    "tags": []
   },
   "outputs": [
    {
     "name": "stdout",
     "output_type": "stream",
     "text": [
      "/kaggle/input/energy-molecule/roboBohr.csv\n"
     ]
    }
   ],
   "source": [
    "# This Python 3 environment comes with many helpful analytics libraries installed\n",
    "# It is defined by the kaggle/python Docker image: https://github.com/kaggle/docker-python\n",
    "# For example, here's several helpful packages to load\n",
    "\n",
    "import numpy as np # linear algebra\n",
    "import pandas as pd # data processing, CSV file I/O (e.g. pd.read_csv)\n",
    "\n",
    "# Input data files are available in the read-only \"../input/\" directory\n",
    "# For example, running this (by clicking run or pressing Shift+Enter) will list all files under the input directory\n",
    "\n",
    "import os\n",
    "for dirname, _, filenames in os.walk('/kaggle/input'):\n",
    "    for filename in filenames:\n",
    "        print(os.path.join(dirname, filename))\n",
    "\n",
    "# You can write up to 20GB to the current directory (/kaggle/working/) that gets preserved as output when you create a version using \"Save & Run All\" \n",
    "# You can also write temporary files to /kaggle/temp/, but they won't be saved outside of the current session"
   ]
  },
  {
   "cell_type": "code",
   "execution_count": 2,
   "id": "09dd6f90",
   "metadata": {
    "execution": {
     "iopub.execute_input": "2022-10-01T15:07:47.941664Z",
     "iopub.status.busy": "2022-10-01T15:07:47.940503Z",
     "iopub.status.idle": "2022-10-01T15:07:52.929122Z",
     "shell.execute_reply": "2022-10-01T15:07:52.928167Z"
    },
    "papermill": {
     "duration": 5.001492,
     "end_time": "2022-10-01T15:07:52.931708",
     "exception": false,
     "start_time": "2022-10-01T15:07:47.930216",
     "status": "completed"
    },
    "tags": []
   },
   "outputs": [],
   "source": [
    "df = pd.read_csv(\"/kaggle/input/energy-molecule/roboBohr.csv\")"
   ]
  },
  {
   "cell_type": "code",
   "execution_count": 3,
   "id": "6f3ece03",
   "metadata": {
    "execution": {
     "iopub.execute_input": "2022-10-01T15:07:52.953165Z",
     "iopub.status.busy": "2022-10-01T15:07:52.952726Z",
     "iopub.status.idle": "2022-10-01T15:07:52.996487Z",
     "shell.execute_reply": "2022-10-01T15:07:52.995214Z"
    },
    "papermill": {
     "duration": 0.057683,
     "end_time": "2022-10-01T15:07:52.999007",
     "exception": false,
     "start_time": "2022-10-01T15:07:52.941324",
     "status": "completed"
    },
    "tags": []
   },
   "outputs": [
    {
     "data": {
      "text/html": [
       "<div>\n",
       "<style scoped>\n",
       "    .dataframe tbody tr th:only-of-type {\n",
       "        vertical-align: middle;\n",
       "    }\n",
       "\n",
       "    .dataframe tbody tr th {\n",
       "        vertical-align: top;\n",
       "    }\n",
       "\n",
       "    .dataframe thead th {\n",
       "        text-align: right;\n",
       "    }\n",
       "</style>\n",
       "<table border=\"1\" class=\"dataframe\">\n",
       "  <thead>\n",
       "    <tr style=\"text-align: right;\">\n",
       "      <th></th>\n",
       "      <th>Unnamed: 0</th>\n",
       "      <th>0</th>\n",
       "      <th>1</th>\n",
       "      <th>2</th>\n",
       "      <th>3</th>\n",
       "      <th>4</th>\n",
       "      <th>5</th>\n",
       "      <th>6</th>\n",
       "      <th>7</th>\n",
       "      <th>8</th>\n",
       "      <th>...</th>\n",
       "      <th>1267</th>\n",
       "      <th>1268</th>\n",
       "      <th>1269</th>\n",
       "      <th>1270</th>\n",
       "      <th>1271</th>\n",
       "      <th>1272</th>\n",
       "      <th>1273</th>\n",
       "      <th>1274</th>\n",
       "      <th>pubchem_id</th>\n",
       "      <th>Eat</th>\n",
       "    </tr>\n",
       "  </thead>\n",
       "  <tbody>\n",
       "    <tr>\n",
       "      <th>0</th>\n",
       "      <td>0</td>\n",
       "      <td>73.516695</td>\n",
       "      <td>17.817765</td>\n",
       "      <td>12.469551</td>\n",
       "      <td>12.458130</td>\n",
       "      <td>12.454607</td>\n",
       "      <td>12.447345</td>\n",
       "      <td>12.433065</td>\n",
       "      <td>12.426926</td>\n",
       "      <td>12.387474</td>\n",
       "      <td>...</td>\n",
       "      <td>0.0</td>\n",
       "      <td>0.0</td>\n",
       "      <td>0.5</td>\n",
       "      <td>0.0</td>\n",
       "      <td>0.0</td>\n",
       "      <td>0.0</td>\n",
       "      <td>0.0</td>\n",
       "      <td>0.0</td>\n",
       "      <td>25004</td>\n",
       "      <td>-19.013763</td>\n",
       "    </tr>\n",
       "    <tr>\n",
       "      <th>1</th>\n",
       "      <td>1</td>\n",
       "      <td>73.516695</td>\n",
       "      <td>20.649126</td>\n",
       "      <td>18.527789</td>\n",
       "      <td>17.891535</td>\n",
       "      <td>17.887995</td>\n",
       "      <td>17.871731</td>\n",
       "      <td>17.852586</td>\n",
       "      <td>17.729842</td>\n",
       "      <td>15.864270</td>\n",
       "      <td>...</td>\n",
       "      <td>0.0</td>\n",
       "      <td>0.0</td>\n",
       "      <td>0.0</td>\n",
       "      <td>0.0</td>\n",
       "      <td>0.0</td>\n",
       "      <td>0.0</td>\n",
       "      <td>0.0</td>\n",
       "      <td>0.0</td>\n",
       "      <td>25005</td>\n",
       "      <td>-10.161019</td>\n",
       "    </tr>\n",
       "    <tr>\n",
       "      <th>2</th>\n",
       "      <td>2</td>\n",
       "      <td>73.516695</td>\n",
       "      <td>17.830377</td>\n",
       "      <td>12.512263</td>\n",
       "      <td>12.404775</td>\n",
       "      <td>12.394493</td>\n",
       "      <td>12.391564</td>\n",
       "      <td>12.324461</td>\n",
       "      <td>12.238106</td>\n",
       "      <td>10.423249</td>\n",
       "      <td>...</td>\n",
       "      <td>0.0</td>\n",
       "      <td>0.0</td>\n",
       "      <td>0.0</td>\n",
       "      <td>0.0</td>\n",
       "      <td>0.0</td>\n",
       "      <td>0.0</td>\n",
       "      <td>0.0</td>\n",
       "      <td>0.0</td>\n",
       "      <td>25006</td>\n",
       "      <td>-9.376619</td>\n",
       "    </tr>\n",
       "    <tr>\n",
       "      <th>3</th>\n",
       "      <td>3</td>\n",
       "      <td>73.516695</td>\n",
       "      <td>17.875810</td>\n",
       "      <td>17.871259</td>\n",
       "      <td>17.862402</td>\n",
       "      <td>17.850920</td>\n",
       "      <td>17.850440</td>\n",
       "      <td>12.558105</td>\n",
       "      <td>12.557645</td>\n",
       "      <td>12.517583</td>\n",
       "      <td>...</td>\n",
       "      <td>0.0</td>\n",
       "      <td>0.0</td>\n",
       "      <td>0.0</td>\n",
       "      <td>0.0</td>\n",
       "      <td>0.0</td>\n",
       "      <td>0.0</td>\n",
       "      <td>0.0</td>\n",
       "      <td>0.0</td>\n",
       "      <td>25009</td>\n",
       "      <td>-13.776438</td>\n",
       "    </tr>\n",
       "    <tr>\n",
       "      <th>4</th>\n",
       "      <td>4</td>\n",
       "      <td>73.516695</td>\n",
       "      <td>17.883818</td>\n",
       "      <td>17.868256</td>\n",
       "      <td>17.864221</td>\n",
       "      <td>17.818540</td>\n",
       "      <td>12.508657</td>\n",
       "      <td>12.490519</td>\n",
       "      <td>12.450098</td>\n",
       "      <td>10.597068</td>\n",
       "      <td>...</td>\n",
       "      <td>0.0</td>\n",
       "      <td>0.0</td>\n",
       "      <td>0.0</td>\n",
       "      <td>0.0</td>\n",
       "      <td>0.0</td>\n",
       "      <td>0.0</td>\n",
       "      <td>0.0</td>\n",
       "      <td>0.0</td>\n",
       "      <td>25011</td>\n",
       "      <td>-8.537140</td>\n",
       "    </tr>\n",
       "  </tbody>\n",
       "</table>\n",
       "<p>5 rows × 1278 columns</p>\n",
       "</div>"
      ],
      "text/plain": [
       "   Unnamed: 0          0          1          2          3          4  \\\n",
       "0           0  73.516695  17.817765  12.469551  12.458130  12.454607   \n",
       "1           1  73.516695  20.649126  18.527789  17.891535  17.887995   \n",
       "2           2  73.516695  17.830377  12.512263  12.404775  12.394493   \n",
       "3           3  73.516695  17.875810  17.871259  17.862402  17.850920   \n",
       "4           4  73.516695  17.883818  17.868256  17.864221  17.818540   \n",
       "\n",
       "           5          6          7          8  ...  1267  1268  1269  1270  \\\n",
       "0  12.447345  12.433065  12.426926  12.387474  ...   0.0   0.0   0.5   0.0   \n",
       "1  17.871731  17.852586  17.729842  15.864270  ...   0.0   0.0   0.0   0.0   \n",
       "2  12.391564  12.324461  12.238106  10.423249  ...   0.0   0.0   0.0   0.0   \n",
       "3  17.850440  12.558105  12.557645  12.517583  ...   0.0   0.0   0.0   0.0   \n",
       "4  12.508657  12.490519  12.450098  10.597068  ...   0.0   0.0   0.0   0.0   \n",
       "\n",
       "   1271  1272  1273  1274  pubchem_id        Eat  \n",
       "0   0.0   0.0   0.0   0.0       25004 -19.013763  \n",
       "1   0.0   0.0   0.0   0.0       25005 -10.161019  \n",
       "2   0.0   0.0   0.0   0.0       25006  -9.376619  \n",
       "3   0.0   0.0   0.0   0.0       25009 -13.776438  \n",
       "4   0.0   0.0   0.0   0.0       25011  -8.537140  \n",
       "\n",
       "[5 rows x 1278 columns]"
      ]
     },
     "execution_count": 3,
     "metadata": {},
     "output_type": "execute_result"
    }
   ],
   "source": [
    "df.head()"
   ]
  },
  {
   "cell_type": "markdown",
   "id": "d7639e45",
   "metadata": {
    "papermill": {
     "duration": 0.009197,
     "end_time": "2022-10-01T15:07:53.017702",
     "exception": false,
     "start_time": "2022-10-01T15:07:53.008505",
     "status": "completed"
    },
    "tags": []
   },
   "source": [
    "**Understanding Data**"
   ]
  },
  {
   "cell_type": "code",
   "execution_count": 4,
   "id": "bbe074f1",
   "metadata": {
    "execution": {
     "iopub.execute_input": "2022-10-01T15:07:53.040110Z",
     "iopub.status.busy": "2022-10-01T15:07:53.039102Z",
     "iopub.status.idle": "2022-10-01T15:07:53.046789Z",
     "shell.execute_reply": "2022-10-01T15:07:53.045671Z"
    },
    "papermill": {
     "duration": 0.02051,
     "end_time": "2022-10-01T15:07:53.048994",
     "exception": false,
     "start_time": "2022-10-01T15:07:53.028484",
     "status": "completed"
    },
    "tags": []
   },
   "outputs": [
    {
     "data": {
      "text/plain": [
       "(16242, 1278)"
      ]
     },
     "execution_count": 4,
     "metadata": {},
     "output_type": "execute_result"
    }
   ],
   "source": [
    "df.shape"
   ]
  },
  {
   "cell_type": "markdown",
   "id": "a25cfe1f",
   "metadata": {
    "papermill": {
     "duration": 0.009475,
     "end_time": "2022-10-01T15:07:53.067945",
     "exception": false,
     "start_time": "2022-10-01T15:07:53.058470",
     "status": "completed"
    },
    "tags": []
   },
   "source": [
    "**Understanding Columns in the dataset**\n",
    "\n",
    "* **Unnamed: 0** - Index for each molecule.\n",
    "* **0-1274** - 1275 entries in the Coulomb matrix that act as molecular features.\n",
    "* **pubchem_id** - Pubchem Id where the molecular structures are obtained. A unique identifier for each molecule\n",
    "*  **Eat** - atomization energy calculated by simulations using the Quantum Espresso package."
   ]
  },
  {
   "cell_type": "markdown",
   "id": "ec3a7ed8",
   "metadata": {
    "papermill": {
     "duration": 0.009591,
     "end_time": "2022-10-01T15:07:53.087240",
     "exception": false,
     "start_time": "2022-10-01T15:07:53.077649",
     "status": "completed"
    },
    "tags": []
   },
   "source": [
    "**Changing name of columns**"
   ]
  },
  {
   "cell_type": "code",
   "execution_count": 5,
   "id": "b1434dbf",
   "metadata": {
    "execution": {
     "iopub.execute_input": "2022-10-01T15:07:53.108729Z",
     "iopub.status.busy": "2022-10-01T15:07:53.108289Z",
     "iopub.status.idle": "2022-10-01T15:07:53.181660Z",
     "shell.execute_reply": "2022-10-01T15:07:53.180283Z"
    },
    "papermill": {
     "duration": 0.087322,
     "end_time": "2022-10-01T15:07:53.184567",
     "exception": false,
     "start_time": "2022-10-01T15:07:53.097245",
     "status": "completed"
    },
    "tags": []
   },
   "outputs": [],
   "source": [
    "df = df.rename(columns = {\"Unnamed: 0\":\"Molecule_ Index\"})"
   ]
  },
  {
   "cell_type": "code",
   "execution_count": 6,
   "id": "84af034f",
   "metadata": {
    "execution": {
     "iopub.execute_input": "2022-10-01T15:07:53.206005Z",
     "iopub.status.busy": "2022-10-01T15:07:53.205555Z",
     "iopub.status.idle": "2022-10-01T15:07:53.234846Z",
     "shell.execute_reply": "2022-10-01T15:07:53.233674Z"
    },
    "papermill": {
     "duration": 0.042432,
     "end_time": "2022-10-01T15:07:53.237196",
     "exception": false,
     "start_time": "2022-10-01T15:07:53.194764",
     "status": "completed"
    },
    "tags": []
   },
   "outputs": [
    {
     "data": {
      "text/html": [
       "<div>\n",
       "<style scoped>\n",
       "    .dataframe tbody tr th:only-of-type {\n",
       "        vertical-align: middle;\n",
       "    }\n",
       "\n",
       "    .dataframe tbody tr th {\n",
       "        vertical-align: top;\n",
       "    }\n",
       "\n",
       "    .dataframe thead th {\n",
       "        text-align: right;\n",
       "    }\n",
       "</style>\n",
       "<table border=\"1\" class=\"dataframe\">\n",
       "  <thead>\n",
       "    <tr style=\"text-align: right;\">\n",
       "      <th></th>\n",
       "      <th>Molecule_ Index</th>\n",
       "      <th>0</th>\n",
       "      <th>1</th>\n",
       "      <th>2</th>\n",
       "      <th>3</th>\n",
       "      <th>4</th>\n",
       "      <th>5</th>\n",
       "      <th>6</th>\n",
       "      <th>7</th>\n",
       "      <th>8</th>\n",
       "      <th>...</th>\n",
       "      <th>1267</th>\n",
       "      <th>1268</th>\n",
       "      <th>1269</th>\n",
       "      <th>1270</th>\n",
       "      <th>1271</th>\n",
       "      <th>1272</th>\n",
       "      <th>1273</th>\n",
       "      <th>1274</th>\n",
       "      <th>pubchem_id</th>\n",
       "      <th>Eat</th>\n",
       "    </tr>\n",
       "  </thead>\n",
       "  <tbody>\n",
       "    <tr>\n",
       "      <th>0</th>\n",
       "      <td>0</td>\n",
       "      <td>73.516695</td>\n",
       "      <td>17.817765</td>\n",
       "      <td>12.469551</td>\n",
       "      <td>12.458130</td>\n",
       "      <td>12.454607</td>\n",
       "      <td>12.447345</td>\n",
       "      <td>12.433065</td>\n",
       "      <td>12.426926</td>\n",
       "      <td>12.387474</td>\n",
       "      <td>...</td>\n",
       "      <td>0.0</td>\n",
       "      <td>0.0</td>\n",
       "      <td>0.5</td>\n",
       "      <td>0.0</td>\n",
       "      <td>0.0</td>\n",
       "      <td>0.0</td>\n",
       "      <td>0.0</td>\n",
       "      <td>0.0</td>\n",
       "      <td>25004</td>\n",
       "      <td>-19.013763</td>\n",
       "    </tr>\n",
       "    <tr>\n",
       "      <th>1</th>\n",
       "      <td>1</td>\n",
       "      <td>73.516695</td>\n",
       "      <td>20.649126</td>\n",
       "      <td>18.527789</td>\n",
       "      <td>17.891535</td>\n",
       "      <td>17.887995</td>\n",
       "      <td>17.871731</td>\n",
       "      <td>17.852586</td>\n",
       "      <td>17.729842</td>\n",
       "      <td>15.864270</td>\n",
       "      <td>...</td>\n",
       "      <td>0.0</td>\n",
       "      <td>0.0</td>\n",
       "      <td>0.0</td>\n",
       "      <td>0.0</td>\n",
       "      <td>0.0</td>\n",
       "      <td>0.0</td>\n",
       "      <td>0.0</td>\n",
       "      <td>0.0</td>\n",
       "      <td>25005</td>\n",
       "      <td>-10.161019</td>\n",
       "    </tr>\n",
       "    <tr>\n",
       "      <th>2</th>\n",
       "      <td>2</td>\n",
       "      <td>73.516695</td>\n",
       "      <td>17.830377</td>\n",
       "      <td>12.512263</td>\n",
       "      <td>12.404775</td>\n",
       "      <td>12.394493</td>\n",
       "      <td>12.391564</td>\n",
       "      <td>12.324461</td>\n",
       "      <td>12.238106</td>\n",
       "      <td>10.423249</td>\n",
       "      <td>...</td>\n",
       "      <td>0.0</td>\n",
       "      <td>0.0</td>\n",
       "      <td>0.0</td>\n",
       "      <td>0.0</td>\n",
       "      <td>0.0</td>\n",
       "      <td>0.0</td>\n",
       "      <td>0.0</td>\n",
       "      <td>0.0</td>\n",
       "      <td>25006</td>\n",
       "      <td>-9.376619</td>\n",
       "    </tr>\n",
       "    <tr>\n",
       "      <th>3</th>\n",
       "      <td>3</td>\n",
       "      <td>73.516695</td>\n",
       "      <td>17.875810</td>\n",
       "      <td>17.871259</td>\n",
       "      <td>17.862402</td>\n",
       "      <td>17.850920</td>\n",
       "      <td>17.850440</td>\n",
       "      <td>12.558105</td>\n",
       "      <td>12.557645</td>\n",
       "      <td>12.517583</td>\n",
       "      <td>...</td>\n",
       "      <td>0.0</td>\n",
       "      <td>0.0</td>\n",
       "      <td>0.0</td>\n",
       "      <td>0.0</td>\n",
       "      <td>0.0</td>\n",
       "      <td>0.0</td>\n",
       "      <td>0.0</td>\n",
       "      <td>0.0</td>\n",
       "      <td>25009</td>\n",
       "      <td>-13.776438</td>\n",
       "    </tr>\n",
       "    <tr>\n",
       "      <th>4</th>\n",
       "      <td>4</td>\n",
       "      <td>73.516695</td>\n",
       "      <td>17.883818</td>\n",
       "      <td>17.868256</td>\n",
       "      <td>17.864221</td>\n",
       "      <td>17.818540</td>\n",
       "      <td>12.508657</td>\n",
       "      <td>12.490519</td>\n",
       "      <td>12.450098</td>\n",
       "      <td>10.597068</td>\n",
       "      <td>...</td>\n",
       "      <td>0.0</td>\n",
       "      <td>0.0</td>\n",
       "      <td>0.0</td>\n",
       "      <td>0.0</td>\n",
       "      <td>0.0</td>\n",
       "      <td>0.0</td>\n",
       "      <td>0.0</td>\n",
       "      <td>0.0</td>\n",
       "      <td>25011</td>\n",
       "      <td>-8.537140</td>\n",
       "    </tr>\n",
       "  </tbody>\n",
       "</table>\n",
       "<p>5 rows × 1278 columns</p>\n",
       "</div>"
      ],
      "text/plain": [
       "   Molecule_ Index          0          1          2          3          4  \\\n",
       "0                0  73.516695  17.817765  12.469551  12.458130  12.454607   \n",
       "1                1  73.516695  20.649126  18.527789  17.891535  17.887995   \n",
       "2                2  73.516695  17.830377  12.512263  12.404775  12.394493   \n",
       "3                3  73.516695  17.875810  17.871259  17.862402  17.850920   \n",
       "4                4  73.516695  17.883818  17.868256  17.864221  17.818540   \n",
       "\n",
       "           5          6          7          8  ...  1267  1268  1269  1270  \\\n",
       "0  12.447345  12.433065  12.426926  12.387474  ...   0.0   0.0   0.5   0.0   \n",
       "1  17.871731  17.852586  17.729842  15.864270  ...   0.0   0.0   0.0   0.0   \n",
       "2  12.391564  12.324461  12.238106  10.423249  ...   0.0   0.0   0.0   0.0   \n",
       "3  17.850440  12.558105  12.557645  12.517583  ...   0.0   0.0   0.0   0.0   \n",
       "4  12.508657  12.490519  12.450098  10.597068  ...   0.0   0.0   0.0   0.0   \n",
       "\n",
       "   1271  1272  1273  1274  pubchem_id        Eat  \n",
       "0   0.0   0.0   0.0   0.0       25004 -19.013763  \n",
       "1   0.0   0.0   0.0   0.0       25005 -10.161019  \n",
       "2   0.0   0.0   0.0   0.0       25006  -9.376619  \n",
       "3   0.0   0.0   0.0   0.0       25009 -13.776438  \n",
       "4   0.0   0.0   0.0   0.0       25011  -8.537140  \n",
       "\n",
       "[5 rows x 1278 columns]"
      ]
     },
     "execution_count": 6,
     "metadata": {},
     "output_type": "execute_result"
    }
   ],
   "source": [
    "df.head()"
   ]
  },
  {
   "cell_type": "code",
   "execution_count": 7,
   "id": "5ada190f",
   "metadata": {
    "execution": {
     "iopub.execute_input": "2022-10-01T15:07:53.259313Z",
     "iopub.status.busy": "2022-10-01T15:07:53.258729Z",
     "iopub.status.idle": "2022-10-01T15:07:56.550022Z",
     "shell.execute_reply": "2022-10-01T15:07:56.548673Z"
    },
    "papermill": {
     "duration": 3.305257,
     "end_time": "2022-10-01T15:07:56.552652",
     "exception": false,
     "start_time": "2022-10-01T15:07:53.247395",
     "status": "completed"
    },
    "tags": []
   },
   "outputs": [
    {
     "data": {
      "text/html": [
       "<div>\n",
       "<style scoped>\n",
       "    .dataframe tbody tr th:only-of-type {\n",
       "        vertical-align: middle;\n",
       "    }\n",
       "\n",
       "    .dataframe tbody tr th {\n",
       "        vertical-align: top;\n",
       "    }\n",
       "\n",
       "    .dataframe thead th {\n",
       "        text-align: right;\n",
       "    }\n",
       "</style>\n",
       "<table border=\"1\" class=\"dataframe\">\n",
       "  <thead>\n",
       "    <tr style=\"text-align: right;\">\n",
       "      <th></th>\n",
       "      <th>Molecule_ Index</th>\n",
       "      <th>0</th>\n",
       "      <th>1</th>\n",
       "      <th>2</th>\n",
       "      <th>3</th>\n",
       "      <th>4</th>\n",
       "      <th>5</th>\n",
       "      <th>6</th>\n",
       "      <th>7</th>\n",
       "      <th>8</th>\n",
       "      <th>...</th>\n",
       "      <th>1267</th>\n",
       "      <th>1268</th>\n",
       "      <th>1269</th>\n",
       "      <th>1270</th>\n",
       "      <th>1271</th>\n",
       "      <th>1272</th>\n",
       "      <th>1273</th>\n",
       "      <th>1274</th>\n",
       "      <th>pubchem_id</th>\n",
       "      <th>Eat</th>\n",
       "    </tr>\n",
       "  </thead>\n",
       "  <tbody>\n",
       "    <tr>\n",
       "      <th>count</th>\n",
       "      <td>16242.000000</td>\n",
       "      <td>16242.000000</td>\n",
       "      <td>16242.000000</td>\n",
       "      <td>16242.000000</td>\n",
       "      <td>16242.000000</td>\n",
       "      <td>16242.000000</td>\n",
       "      <td>16242.000000</td>\n",
       "      <td>16242.000000</td>\n",
       "      <td>16242.000000</td>\n",
       "      <td>16242.000000</td>\n",
       "      <td>...</td>\n",
       "      <td>16242.000000</td>\n",
       "      <td>16242.000000</td>\n",
       "      <td>16242.000000</td>\n",
       "      <td>16242.000000</td>\n",
       "      <td>16242.000000</td>\n",
       "      <td>16242.000000</td>\n",
       "      <td>16242.000000</td>\n",
       "      <td>16242.000000</td>\n",
       "      <td>16242.000000</td>\n",
       "      <td>16242.000000</td>\n",
       "    </tr>\n",
       "    <tr>\n",
       "      <th>mean</th>\n",
       "      <td>8139.041805</td>\n",
       "      <td>115.715266</td>\n",
       "      <td>22.445723</td>\n",
       "      <td>20.474191</td>\n",
       "      <td>18.529573</td>\n",
       "      <td>17.169350</td>\n",
       "      <td>15.816888</td>\n",
       "      <td>15.133152</td>\n",
       "      <td>14.471534</td>\n",
       "      <td>13.960759</td>\n",
       "      <td>...</td>\n",
       "      <td>0.000134</td>\n",
       "      <td>0.000133</td>\n",
       "      <td>0.003879</td>\n",
       "      <td>0.000131</td>\n",
       "      <td>0.000129</td>\n",
       "      <td>0.002155</td>\n",
       "      <td>0.000127</td>\n",
       "      <td>0.001201</td>\n",
       "      <td>33107.484300</td>\n",
       "      <td>-11.178969</td>\n",
       "    </tr>\n",
       "    <tr>\n",
       "      <th>std</th>\n",
       "      <td>4698.182820</td>\n",
       "      <td>113.198503</td>\n",
       "      <td>8.659586</td>\n",
       "      <td>7.670481</td>\n",
       "      <td>6.485777</td>\n",
       "      <td>5.512560</td>\n",
       "      <td>4.179691</td>\n",
       "      <td>3.885091</td>\n",
       "      <td>3.503075</td>\n",
       "      <td>3.357136</td>\n",
       "      <td>...</td>\n",
       "      <td>0.002728</td>\n",
       "      <td>0.002705</td>\n",
       "      <td>0.043869</td>\n",
       "      <td>0.002676</td>\n",
       "      <td>0.002633</td>\n",
       "      <td>0.032755</td>\n",
       "      <td>0.002594</td>\n",
       "      <td>0.024472</td>\n",
       "      <td>23456.785147</td>\n",
       "      <td>3.659133</td>\n",
       "    </tr>\n",
       "    <tr>\n",
       "      <th>min</th>\n",
       "      <td>0.000000</td>\n",
       "      <td>36.858105</td>\n",
       "      <td>2.906146</td>\n",
       "      <td>0.000000</td>\n",
       "      <td>0.000000</td>\n",
       "      <td>0.000000</td>\n",
       "      <td>0.000000</td>\n",
       "      <td>0.000000</td>\n",
       "      <td>0.000000</td>\n",
       "      <td>0.000000</td>\n",
       "      <td>...</td>\n",
       "      <td>0.000000</td>\n",
       "      <td>0.000000</td>\n",
       "      <td>0.000000</td>\n",
       "      <td>0.000000</td>\n",
       "      <td>0.000000</td>\n",
       "      <td>0.000000</td>\n",
       "      <td>0.000000</td>\n",
       "      <td>0.000000</td>\n",
       "      <td>1.000000</td>\n",
       "      <td>-23.245373</td>\n",
       "    </tr>\n",
       "    <tr>\n",
       "      <th>25%</th>\n",
       "      <td>4068.250000</td>\n",
       "      <td>73.516695</td>\n",
       "      <td>17.969345</td>\n",
       "      <td>16.228071</td>\n",
       "      <td>15.165862</td>\n",
       "      <td>13.744092</td>\n",
       "      <td>13.653146</td>\n",
       "      <td>13.637784</td>\n",
       "      <td>12.759519</td>\n",
       "      <td>12.587359</td>\n",
       "      <td>...</td>\n",
       "      <td>0.000000</td>\n",
       "      <td>0.000000</td>\n",
       "      <td>0.000000</td>\n",
       "      <td>0.000000</td>\n",
       "      <td>0.000000</td>\n",
       "      <td>0.000000</td>\n",
       "      <td>0.000000</td>\n",
       "      <td>0.000000</td>\n",
       "      <td>12298.250000</td>\n",
       "      <td>-13.475805</td>\n",
       "    </tr>\n",
       "    <tr>\n",
       "      <th>50%</th>\n",
       "      <td>8142.500000</td>\n",
       "      <td>73.516695</td>\n",
       "      <td>20.662511</td>\n",
       "      <td>18.631287</td>\n",
       "      <td>17.690729</td>\n",
       "      <td>16.020040</td>\n",
       "      <td>15.156646</td>\n",
       "      <td>13.848274</td>\n",
       "      <td>13.659233</td>\n",
       "      <td>13.652832</td>\n",
       "      <td>...</td>\n",
       "      <td>0.000000</td>\n",
       "      <td>0.000000</td>\n",
       "      <td>0.000000</td>\n",
       "      <td>0.000000</td>\n",
       "      <td>0.000000</td>\n",
       "      <td>0.000000</td>\n",
       "      <td>0.000000</td>\n",
       "      <td>0.000000</td>\n",
       "      <td>27731.500000</td>\n",
       "      <td>-10.835211</td>\n",
       "    </tr>\n",
       "    <tr>\n",
       "      <th>75%</th>\n",
       "      <td>12207.750000</td>\n",
       "      <td>73.516695</td>\n",
       "      <td>21.132432</td>\n",
       "      <td>20.739496</td>\n",
       "      <td>18.712895</td>\n",
       "      <td>18.297501</td>\n",
       "      <td>17.639688</td>\n",
       "      <td>16.154918</td>\n",
       "      <td>15.499474</td>\n",
       "      <td>14.900585</td>\n",
       "      <td>...</td>\n",
       "      <td>0.000000</td>\n",
       "      <td>0.000000</td>\n",
       "      <td>0.000000</td>\n",
       "      <td>0.000000</td>\n",
       "      <td>0.000000</td>\n",
       "      <td>0.000000</td>\n",
       "      <td>0.000000</td>\n",
       "      <td>0.000000</td>\n",
       "      <td>55020.750000</td>\n",
       "      <td>-8.623903</td>\n",
       "    </tr>\n",
       "    <tr>\n",
       "      <th>max</th>\n",
       "      <td>16272.000000</td>\n",
       "      <td>388.023441</td>\n",
       "      <td>73.563510</td>\n",
       "      <td>66.269180</td>\n",
       "      <td>66.268891</td>\n",
       "      <td>66.268756</td>\n",
       "      <td>66.268196</td>\n",
       "      <td>66.264158</td>\n",
       "      <td>66.258487</td>\n",
       "      <td>66.258177</td>\n",
       "      <td>...</td>\n",
       "      <td>0.062225</td>\n",
       "      <td>0.061999</td>\n",
       "      <td>0.500000</td>\n",
       "      <td>0.061534</td>\n",
       "      <td>0.059760</td>\n",
       "      <td>0.500000</td>\n",
       "      <td>0.057834</td>\n",
       "      <td>0.500000</td>\n",
       "      <td>74980.000000</td>\n",
       "      <td>-0.789513</td>\n",
       "    </tr>\n",
       "  </tbody>\n",
       "</table>\n",
       "<p>8 rows × 1278 columns</p>\n",
       "</div>"
      ],
      "text/plain": [
       "       Molecule_ Index             0             1             2  \\\n",
       "count     16242.000000  16242.000000  16242.000000  16242.000000   \n",
       "mean       8139.041805    115.715266     22.445723     20.474191   \n",
       "std        4698.182820    113.198503      8.659586      7.670481   \n",
       "min           0.000000     36.858105      2.906146      0.000000   \n",
       "25%        4068.250000     73.516695     17.969345     16.228071   \n",
       "50%        8142.500000     73.516695     20.662511     18.631287   \n",
       "75%       12207.750000     73.516695     21.132432     20.739496   \n",
       "max       16272.000000    388.023441     73.563510     66.269180   \n",
       "\n",
       "                  3             4             5             6             7  \\\n",
       "count  16242.000000  16242.000000  16242.000000  16242.000000  16242.000000   \n",
       "mean      18.529573     17.169350     15.816888     15.133152     14.471534   \n",
       "std        6.485777      5.512560      4.179691      3.885091      3.503075   \n",
       "min        0.000000      0.000000      0.000000      0.000000      0.000000   \n",
       "25%       15.165862     13.744092     13.653146     13.637784     12.759519   \n",
       "50%       17.690729     16.020040     15.156646     13.848274     13.659233   \n",
       "75%       18.712895     18.297501     17.639688     16.154918     15.499474   \n",
       "max       66.268891     66.268756     66.268196     66.264158     66.258487   \n",
       "\n",
       "                  8  ...          1267          1268          1269  \\\n",
       "count  16242.000000  ...  16242.000000  16242.000000  16242.000000   \n",
       "mean      13.960759  ...      0.000134      0.000133      0.003879   \n",
       "std        3.357136  ...      0.002728      0.002705      0.043869   \n",
       "min        0.000000  ...      0.000000      0.000000      0.000000   \n",
       "25%       12.587359  ...      0.000000      0.000000      0.000000   \n",
       "50%       13.652832  ...      0.000000      0.000000      0.000000   \n",
       "75%       14.900585  ...      0.000000      0.000000      0.000000   \n",
       "max       66.258177  ...      0.062225      0.061999      0.500000   \n",
       "\n",
       "               1270          1271          1272          1273          1274  \\\n",
       "count  16242.000000  16242.000000  16242.000000  16242.000000  16242.000000   \n",
       "mean       0.000131      0.000129      0.002155      0.000127      0.001201   \n",
       "std        0.002676      0.002633      0.032755      0.002594      0.024472   \n",
       "min        0.000000      0.000000      0.000000      0.000000      0.000000   \n",
       "25%        0.000000      0.000000      0.000000      0.000000      0.000000   \n",
       "50%        0.000000      0.000000      0.000000      0.000000      0.000000   \n",
       "75%        0.000000      0.000000      0.000000      0.000000      0.000000   \n",
       "max        0.061534      0.059760      0.500000      0.057834      0.500000   \n",
       "\n",
       "         pubchem_id           Eat  \n",
       "count  16242.000000  16242.000000  \n",
       "mean   33107.484300    -11.178969  \n",
       "std    23456.785147      3.659133  \n",
       "min        1.000000    -23.245373  \n",
       "25%    12298.250000    -13.475805  \n",
       "50%    27731.500000    -10.835211  \n",
       "75%    55020.750000     -8.623903  \n",
       "max    74980.000000     -0.789513  \n",
       "\n",
       "[8 rows x 1278 columns]"
      ]
     },
     "execution_count": 7,
     "metadata": {},
     "output_type": "execute_result"
    }
   ],
   "source": [
    "df.describe()"
   ]
  },
  {
   "cell_type": "code",
   "execution_count": 8,
   "id": "834afd60",
   "metadata": {
    "execution": {
     "iopub.execute_input": "2022-10-01T15:07:56.575253Z",
     "iopub.status.busy": "2022-10-01T15:07:56.574863Z",
     "iopub.status.idle": "2022-10-01T15:07:56.646090Z",
     "shell.execute_reply": "2022-10-01T15:07:56.644721Z"
    },
    "papermill": {
     "duration": 0.085728,
     "end_time": "2022-10-01T15:07:56.648939",
     "exception": false,
     "start_time": "2022-10-01T15:07:56.563211",
     "status": "completed"
    },
    "tags": []
   },
   "outputs": [
    {
     "name": "stdout",
     "output_type": "stream",
     "text": [
      "<class 'pandas.core.frame.DataFrame'>\n",
      "RangeIndex: 16242 entries, 0 to 16241\n",
      "Columns: 1278 entries, Molecule_ Index to Eat\n",
      "dtypes: float64(1276), int64(2)\n",
      "memory usage: 158.4 MB\n"
     ]
    }
   ],
   "source": [
    "df.info()"
   ]
  },
  {
   "cell_type": "markdown",
   "id": "89f83fbe",
   "metadata": {
    "papermill": {
     "duration": 0.010412,
     "end_time": "2022-10-01T15:07:56.670124",
     "exception": false,
     "start_time": "2022-10-01T15:07:56.659712",
     "status": "completed"
    },
    "tags": []
   },
   "source": [
    "All the columns are numerical"
   ]
  },
  {
   "cell_type": "markdown",
   "id": "889ba2c2",
   "metadata": {
    "papermill": {
     "duration": 0.010358,
     "end_time": "2022-10-01T15:07:56.691180",
     "exception": false,
     "start_time": "2022-10-01T15:07:56.680822",
     "status": "completed"
    },
    "tags": []
   },
   "source": [
    "**Checking for missing values**"
   ]
  },
  {
   "cell_type": "code",
   "execution_count": 9,
   "id": "bb5245ae",
   "metadata": {
    "execution": {
     "iopub.execute_input": "2022-10-01T15:07:56.714277Z",
     "iopub.status.busy": "2022-10-01T15:07:56.713852Z",
     "iopub.status.idle": "2022-10-01T15:07:56.766965Z",
     "shell.execute_reply": "2022-10-01T15:07:56.766029Z"
    },
    "papermill": {
     "duration": 0.067322,
     "end_time": "2022-10-01T15:07:56.769111",
     "exception": false,
     "start_time": "2022-10-01T15:07:56.701789",
     "status": "completed"
    },
    "tags": []
   },
   "outputs": [
    {
     "data": {
      "text/plain": [
       "Molecule_ Index    0\n",
       "0                  0\n",
       "1                  0\n",
       "2                  0\n",
       "3                  0\n",
       "                  ..\n",
       "1272               0\n",
       "1273               0\n",
       "1274               0\n",
       "pubchem_id         0\n",
       "Eat                0\n",
       "Length: 1278, dtype: int64"
      ]
     },
     "execution_count": 9,
     "metadata": {},
     "output_type": "execute_result"
    }
   ],
   "source": [
    "df.isna().sum()"
   ]
  },
  {
   "cell_type": "markdown",
   "id": "2bf8a392",
   "metadata": {
    "papermill": {
     "duration": 0.010703,
     "end_time": "2022-10-01T15:07:56.790520",
     "exception": false,
     "start_time": "2022-10-01T15:07:56.779817",
     "status": "completed"
    },
    "tags": []
   },
   "source": [
    "There are no missing values."
   ]
  },
  {
   "cell_type": "markdown",
   "id": "e46d4058",
   "metadata": {
    "papermill": {
     "duration": 0.01031,
     "end_time": "2022-10-01T15:07:56.811646",
     "exception": false,
     "start_time": "2022-10-01T15:07:56.801336",
     "status": "completed"
    },
    "tags": []
   },
   "source": [
    "Unique columns that can be dropped"
   ]
  },
  {
   "cell_type": "code",
   "execution_count": 10,
   "id": "dd6be405",
   "metadata": {
    "execution": {
     "iopub.execute_input": "2022-10-01T15:07:56.835073Z",
     "iopub.status.busy": "2022-10-01T15:07:56.834668Z",
     "iopub.status.idle": "2022-10-01T15:07:56.893985Z",
     "shell.execute_reply": "2022-10-01T15:07:56.892940Z"
    },
    "papermill": {
     "duration": 0.074054,
     "end_time": "2022-10-01T15:07:56.896425",
     "exception": false,
     "start_time": "2022-10-01T15:07:56.822371",
     "status": "completed"
    },
    "tags": []
   },
   "outputs": [],
   "source": [
    "df = df.drop(['Molecule_ Index', 'pubchem_id'], axis = 1)"
   ]
  },
  {
   "cell_type": "markdown",
   "id": "9f5044d9",
   "metadata": {
    "papermill": {
     "duration": 0.010558,
     "end_time": "2022-10-01T15:07:56.917915",
     "exception": false,
     "start_time": "2022-10-01T15:07:56.907357",
     "status": "completed"
    },
    "tags": []
   },
   "source": [
    "Target Variable : **Eat**"
   ]
  },
  {
   "cell_type": "code",
   "execution_count": 11,
   "id": "addbcc04",
   "metadata": {
    "execution": {
     "iopub.execute_input": "2022-10-01T15:07:56.941969Z",
     "iopub.status.busy": "2022-10-01T15:07:56.940928Z",
     "iopub.status.idle": "2022-10-01T15:07:56.952914Z",
     "shell.execute_reply": "2022-10-01T15:07:56.951933Z"
    },
    "papermill": {
     "duration": 0.026571,
     "end_time": "2022-10-01T15:07:56.955322",
     "exception": false,
     "start_time": "2022-10-01T15:07:56.928751",
     "status": "completed"
    },
    "tags": []
   },
   "outputs": [
    {
     "data": {
      "text/plain": [
       "count    16242.000000\n",
       "mean       -11.178969\n",
       "std          3.659133\n",
       "min        -23.245373\n",
       "25%        -13.475805\n",
       "50%        -10.835211\n",
       "75%         -8.623903\n",
       "max         -0.789513\n",
       "Name: Eat, dtype: float64"
      ]
     },
     "execution_count": 11,
     "metadata": {},
     "output_type": "execute_result"
    }
   ],
   "source": [
    "df.Eat.describe()"
   ]
  },
  {
   "cell_type": "markdown",
   "id": "5fac7794",
   "metadata": {
    "papermill": {
     "duration": 0.010324,
     "end_time": "2022-10-01T15:07:56.976454",
     "exception": false,
     "start_time": "2022-10-01T15:07:56.966130",
     "status": "completed"
    },
    "tags": []
   },
   "source": [
    "**Note** : Energy of atomisation is negative when the energy is released in breaking of bonds\n"
   ]
  },
  {
   "cell_type": "code",
   "execution_count": 12,
   "id": "3aad031f",
   "metadata": {
    "execution": {
     "iopub.execute_input": "2022-10-01T15:07:56.999915Z",
     "iopub.status.busy": "2022-10-01T15:07:56.999433Z",
     "iopub.status.idle": "2022-10-01T15:07:58.131620Z",
     "shell.execute_reply": "2022-10-01T15:07:58.130494Z"
    },
    "papermill": {
     "duration": 1.147354,
     "end_time": "2022-10-01T15:07:58.134626",
     "exception": false,
     "start_time": "2022-10-01T15:07:56.987272",
     "status": "completed"
    },
    "tags": []
   },
   "outputs": [],
   "source": [
    "import seaborn as sns\n",
    "import matplotlib.pyplot as plt\n"
   ]
  },
  {
   "cell_type": "markdown",
   "id": "838516c5",
   "metadata": {
    "papermill": {
     "duration": 0.01097,
     "end_time": "2022-10-01T15:07:58.156655",
     "exception": false,
     "start_time": "2022-10-01T15:07:58.145685",
     "status": "completed"
    },
    "tags": []
   },
   "source": [
    "**Depicting Data Variations**"
   ]
  },
  {
   "cell_type": "code",
   "execution_count": 13,
   "id": "707c4bd7",
   "metadata": {
    "execution": {
     "iopub.execute_input": "2022-10-01T15:07:58.181285Z",
     "iopub.status.busy": "2022-10-01T15:07:58.180769Z",
     "iopub.status.idle": "2022-10-01T15:07:58.623233Z",
     "shell.execute_reply": "2022-10-01T15:07:58.622335Z"
    },
    "papermill": {
     "duration": 0.457473,
     "end_time": "2022-10-01T15:07:58.625452",
     "exception": false,
     "start_time": "2022-10-01T15:07:58.167979",
     "status": "completed"
    },
    "tags": []
   },
   "outputs": [
    {
     "name": "stderr",
     "output_type": "stream",
     "text": [
      "/opt/conda/lib/python3.7/site-packages/seaborn/distributions.py:2619: FutureWarning: `distplot` is a deprecated function and will be removed in a future version. Please adapt your code to use either `displot` (a figure-level function with similar flexibility) or `histplot` (an axes-level function for histograms).\n",
      "  warnings.warn(msg, FutureWarning)\n"
     ]
    },
    {
     "data": {
      "image/png": "[encoded data removed]",
      "text/plain": [
       "<Figure size 432x288 with 1 Axes>"
      ]
     },
     "metadata": {
      "needs_background": "light"
     },
     "output_type": "display_data"
    }
   ],
   "source": [
    "sns.distplot(df['Eat'], kde=True, color=\"y\")\n",
    "plt.xlabel('Energy of Atomization ')\n",
    "plt.ylabel('Frequency')\n",
    "plt.title('Atomization Energy Distribution');\n",
    "plt.show()"
   ]
  },
  {
   "cell_type": "markdown",
   "id": "ddba55c9",
   "metadata": {
    "papermill": {
     "duration": 0.010836,
     "end_time": "2022-10-01T15:07:58.647720",
     "exception": false,
     "start_time": "2022-10-01T15:07:58.636884",
     "status": "completed"
    },
    "tags": []
   },
   "source": [
    "**Modeling**"
   ]
  },
  {
   "cell_type": "markdown",
   "id": "43011393",
   "metadata": {
    "papermill": {
     "duration": 0.011405,
     "end_time": "2022-10-01T15:07:58.670176",
     "exception": false,
     "start_time": "2022-10-01T15:07:58.658771",
     "status": "completed"
    },
    "tags": []
   },
   "source": [
    "Here I decided to check different methods linear models, nearest neighbors and boosted trees. The paper stated that the best method is booosted trees used with xgboost. Let's check this out here.."
   ]
  },
  {
   "cell_type": "code",
   "execution_count": 14,
   "id": "945f0f7c",
   "metadata": {
    "execution": {
     "iopub.execute_input": "2022-10-01T15:07:58.695349Z",
     "iopub.status.busy": "2022-10-01T15:07:58.693933Z",
     "iopub.status.idle": "2022-10-01T15:07:58.767336Z",
     "shell.execute_reply": "2022-10-01T15:07:58.766360Z"
    },
    "papermill": {
     "duration": 0.08861,
     "end_time": "2022-10-01T15:07:58.770001",
     "exception": false,
     "start_time": "2022-10-01T15:07:58.681391",
     "status": "completed"
    },
    "tags": []
   },
   "outputs": [],
   "source": [
    "Y = df['Eat']\n",
    "df = df.drop([\"Eat\"], axis = 1)"
   ]
  },
  {
   "cell_type": "markdown",
   "id": "23914634",
   "metadata": {
    "papermill": {
     "duration": 0.010848,
     "end_time": "2022-10-01T15:07:58.792243",
     "exception": false,
     "start_time": "2022-10-01T15:07:58.781395",
     "status": "completed"
    },
    "tags": []
   },
   "source": [
    "**Splitting data into train test**"
   ]
  },
  {
   "cell_type": "code",
   "execution_count": 15,
   "id": "eb9c4348",
   "metadata": {
    "execution": {
     "iopub.execute_input": "2022-10-01T15:07:58.816778Z",
     "iopub.status.busy": "2022-10-01T15:07:58.816311Z",
     "iopub.status.idle": "2022-10-01T15:07:59.174295Z",
     "shell.execute_reply": "2022-10-01T15:07:59.172936Z"
    },
    "papermill": {
     "duration": 0.373765,
     "end_time": "2022-10-01T15:07:59.177489",
     "exception": false,
     "start_time": "2022-10-01T15:07:58.803724",
     "status": "completed"
    },
    "tags": []
   },
   "outputs": [],
   "source": [
    "from sklearn.model_selection import train_test_split, GridSearchCV, RandomizedSearchCV\n",
    "x_train, x_test, y_train, y_test = train_test_split(df, Y, test_size=0.3)"
   ]
  },
  {
   "cell_type": "code",
   "execution_count": 16,
   "id": "f10ceb20",
   "metadata": {
    "execution": {
     "iopub.execute_input": "2022-10-01T15:07:59.202475Z",
     "iopub.status.busy": "2022-10-01T15:07:59.201992Z",
     "iopub.status.idle": "2022-10-01T15:07:59.209185Z",
     "shell.execute_reply": "2022-10-01T15:07:59.207956Z"
    },
    "papermill": {
     "duration": 0.022569,
     "end_time": "2022-10-01T15:07:59.211635",
     "exception": false,
     "start_time": "2022-10-01T15:07:59.189066",
     "status": "completed"
    },
    "tags": []
   },
   "outputs": [
    {
     "data": {
      "text/plain": [
       "(11369, 1275)"
      ]
     },
     "execution_count": 16,
     "metadata": {},
     "output_type": "execute_result"
    }
   ],
   "source": [
    "x_train.shape"
   ]
  },
  {
   "cell_type": "code",
   "execution_count": 17,
   "id": "dbd3aa3f",
   "metadata": {
    "execution": {
     "iopub.execute_input": "2022-10-01T15:07:59.236252Z",
     "iopub.status.busy": "2022-10-01T15:07:59.235856Z",
     "iopub.status.idle": "2022-10-01T15:07:59.242789Z",
     "shell.execute_reply": "2022-10-01T15:07:59.241670Z"
    },
    "papermill": {
     "duration": 0.021942,
     "end_time": "2022-10-01T15:07:59.245125",
     "exception": false,
     "start_time": "2022-10-01T15:07:59.223183",
     "status": "completed"
    },
    "tags": []
   },
   "outputs": [
    {
     "data": {
      "text/plain": [
       "(4873, 1275)"
      ]
     },
     "execution_count": 17,
     "metadata": {},
     "output_type": "execute_result"
    }
   ],
   "source": [
    "x_test.shape"
   ]
  },
  {
   "cell_type": "code",
   "execution_count": 18,
   "id": "f8d21e02",
   "metadata": {
    "execution": {
     "iopub.execute_input": "2022-10-01T15:07:59.269977Z",
     "iopub.status.busy": "2022-10-01T15:07:59.269531Z",
     "iopub.status.idle": "2022-10-01T15:08:00.131904Z",
     "shell.execute_reply": "2022-10-01T15:08:00.130399Z"
    },
    "papermill": {
     "duration": 0.878289,
     "end_time": "2022-10-01T15:08:00.134984",
     "exception": false,
     "start_time": "2022-10-01T15:07:59.256695",
     "status": "completed"
    },
    "tags": []
   },
   "outputs": [
    {
     "data": {
      "text/html": [
       "<style type='text/css'>\n",
       ".datatable table.frame { margin-bottom: 0; }\n",
       ".datatable table.frame thead { border-bottom: none; }\n",
       ".datatable table.frame tr.coltypes td {  color: #FFFFFF;  line-height: 6px;  padding: 0 0.5em;}\n",
       ".datatable .bool    { background: #DDDD99; }\n",
       ".datatable .object  { background: #565656; }\n",
       ".datatable .int     { background: #5D9E5D; }\n",
       ".datatable .float   { background: #4040CC; }\n",
       ".datatable .str     { background: #CC4040; }\n",
       ".datatable .time    { background: #40CC40; }\n",
       ".datatable .row_index {  background: var(--jp-border-color3);  border-right: 1px solid var(--jp-border-color0);  color: var(--jp-ui-font-color3);  font-size: 9px;}\n",
       ".datatable .frame tbody td { text-align: left; }\n",
       ".datatable .frame tr.coltypes .row_index {  background: var(--jp-border-color0);}\n",
       ".datatable th:nth-child(2) { padding-left: 12px; }\n",
       ".datatable .hellipsis {  color: var(--jp-cell-editor-border-color);}\n",
       ".datatable .vellipsis {  background: var(--jp-layout-color0);  color: var(--jp-cell-editor-border-color);}\n",
       ".datatable .na {  color: var(--jp-cell-editor-border-color);  font-size: 80%;}\n",
       ".datatable .sp {  opacity: 0.25;}\n",
       ".datatable .footer { font-size: 9px; }\n",
       ".datatable .frame_dimensions {  background: var(--jp-border-color3);  border-top: 1px solid var(--jp-border-color0);  color: var(--jp-ui-font-color3);  display: inline-block;  opacity: 0.6;  padding: 1px 10px 1px 5px;}\n",
       "</style>\n"
      ],
      "text/plain": [
       "<IPython.core.display.HTML object>"
      ]
     },
     "metadata": {},
     "output_type": "display_data"
    }
   ],
   "source": [
    "from lightgbm.sklearn import LGBMRegressor"
   ]
  },
  {
   "cell_type": "code",
   "execution_count": 19,
   "id": "d3eae8d9",
   "metadata": {
    "execution": {
     "iopub.execute_input": "2022-10-01T15:08:00.159901Z",
     "iopub.status.busy": "2022-10-01T15:08:00.159447Z",
     "iopub.status.idle": "2022-10-01T15:08:00.165030Z",
     "shell.execute_reply": "2022-10-01T15:08:00.163844Z"
    },
    "papermill": {
     "duration": 0.020893,
     "end_time": "2022-10-01T15:08:00.167533",
     "exception": false,
     "start_time": "2022-10-01T15:08:00.146640",
     "status": "completed"
    },
    "tags": []
   },
   "outputs": [],
   "source": [
    "lgmb = LGBMRegressor()"
   ]
  },
  {
   "cell_type": "code",
   "execution_count": 20,
   "id": "fb911cc8",
   "metadata": {
    "execution": {
     "iopub.execute_input": "2022-10-01T15:08:00.193886Z",
     "iopub.status.busy": "2022-10-01T15:08:00.193401Z",
     "iopub.status.idle": "2022-10-01T15:08:00.199246Z",
     "shell.execute_reply": "2022-10-01T15:08:00.197615Z"
    },
    "papermill": {
     "duration": 0.022391,
     "end_time": "2022-10-01T15:08:00.201974",
     "exception": false,
     "start_time": "2022-10-01T15:08:00.179583",
     "status": "completed"
    },
    "tags": []
   },
   "outputs": [],
   "source": [
    "# lgbm_model = lgmb(num_leaves = 25, n_estimators = 250, min_child_weight = 5, max_depth = 4, learning_rate = 0.08,colsample_bytree = 0.3)\n"
   ]
  },
  {
   "cell_type": "markdown",
   "id": "36c04e17",
   "metadata": {
    "papermill": {
     "duration": 0.012092,
     "end_time": "2022-10-01T15:08:00.226864",
     "exception": false,
     "start_time": "2022-10-01T15:08:00.214772",
     "status": "completed"
    },
    "tags": []
   },
   "source": [
    "**Different Models Fit**"
   ]
  },
  {
   "cell_type": "code",
   "execution_count": 21,
   "id": "27cdb1c4",
   "metadata": {
    "execution": {
     "iopub.execute_input": "2022-10-01T15:08:00.252684Z",
     "iopub.status.busy": "2022-10-01T15:08:00.251478Z",
     "iopub.status.idle": "2022-10-01T15:08:00.635666Z",
     "shell.execute_reply": "2022-10-01T15:08:00.634306Z"
    },
    "papermill": {
     "duration": 0.4001,
     "end_time": "2022-10-01T15:08:00.638555",
     "exception": false,
     "start_time": "2022-10-01T15:08:00.238455",
     "status": "completed"
    },
    "tags": []
   },
   "outputs": [],
   "source": [
    "from sklearn.ensemble import RandomForestRegressor\n",
    "from sklearn.neighbors import KNeighborsRegressor\n",
    "from sklearn.linear_model import Ridge, Lasso, ElasticNet\n",
    "from xgboost.sklearn import XGBRegressor\n",
    "from sklearn.metrics import mean_squared_error\n"
   ]
  },
  {
   "cell_type": "code",
   "execution_count": 22,
   "id": "7c6962f4",
   "metadata": {
    "execution": {
     "iopub.execute_input": "2022-10-01T15:08:00.664685Z",
     "iopub.status.busy": "2022-10-01T15:08:00.663429Z",
     "iopub.status.idle": "2022-10-01T15:08:00.671869Z",
     "shell.execute_reply": "2022-10-01T15:08:00.670662Z"
    },
    "papermill": {
     "duration": 0.023546,
     "end_time": "2022-10-01T15:08:00.674115",
     "exception": false,
     "start_time": "2022-10-01T15:08:00.650569",
     "status": "completed"
    },
    "tags": []
   },
   "outputs": [],
   "source": [
    "xgb_model = XGBRegressor(objective='reg:linear', eval_metric = 'rmse', learning_rate = 0.0625, reg_lambda = 0,\n",
    "                         max_depth = 6, colsample_bytree = 0.2, min_child_weight = 10, n_estimators = 400)\n",
    "\n",
    "rf_model = RandomForestRegressor(n_estimators = 100, min_samples_split = 3, max_features = 'auto', max_depth = 8)\n",
    "\n",
    "knn_model = KNeighborsRegressor(weights = 'distance', n_neighbors = 3, leaf_size = 90)\n",
    "\n",
    "ridge_model = Ridge(alpha = 1000)\n",
    "\n",
    "lasso_model = Lasso(alpha = 0.01, max_iter=10000)\n",
    "\n",
    "enet_model = ElasticNet(alpha = 0.01, l1_ratio = 0.1, max_iter=10000)\n",
    "\n"
   ]
  },
  {
   "cell_type": "markdown",
   "id": "d882f3e8",
   "metadata": {
    "papermill": {
     "duration": 0.011031,
     "end_time": "2022-10-01T15:08:00.696673",
     "exception": false,
     "start_time": "2022-10-01T15:08:00.685642",
     "status": "completed"
    },
    "tags": []
   },
   "source": [
    "**Root mean Square error vs Models**"
   ]
  },
  {
   "cell_type": "code",
   "execution_count": 23,
   "id": "136d1034",
   "metadata": {
    "execution": {
     "iopub.execute_input": "2022-10-01T15:08:00.721237Z",
     "iopub.status.busy": "2022-10-01T15:08:00.720787Z",
     "iopub.status.idle": "2022-10-01T15:29:46.342646Z",
     "shell.execute_reply": "2022-10-01T15:29:46.341282Z"
    },
    "papermill": {
     "duration": 1305.637817,
     "end_time": "2022-10-01T15:29:46.345917",
     "exception": false,
     "start_time": "2022-10-01T15:08:00.708100",
     "status": "completed"
    },
    "tags": []
   },
   "outputs": [
    {
     "name": "stdout",
     "output_type": "stream",
     "text": [
      "[15:08:01] WARNING: ../src/objective/regression_obj.cu:203: reg:linear is now deprecated in favor of reg:squarederror.\n",
      "[15:08:49] WARNING: ../src/objective/regression_obj.cu:203: reg:linear is now deprecated in favor of reg:squarederror.\n",
      "[15:09:36] WARNING: ../src/objective/regression_obj.cu:203: reg:linear is now deprecated in favor of reg:squarederror.\n",
      "[15:10:24] WARNING: ../src/objective/regression_obj.cu:203: reg:linear is now deprecated in favor of reg:squarederror.\n",
      "[15:11:12] WARNING: ../src/objective/regression_obj.cu:203: reg:linear is now deprecated in favor of reg:squarederror.\n"
     ]
    },
    {
     "data": {
      "text/plain": [
       "<AxesSubplot:xlabel='Model'>"
      ]
     },
     "execution_count": 23,
     "metadata": {},
     "output_type": "execute_result"
    },
    {
     "data": {
      "image/png": "[encoded data removed]",
      "text/plain": [
       "<Figure size 432x288 with 1 Axes>"
      ]
     },
     "metadata": {
      "needs_background": "light"
     },
     "output_type": "display_data"
    }
   ],
   "source": [
    "from sklearn.model_selection import cross_val_score\n",
    "from sklearn.metrics import make_scorer\n",
    "\n",
    "def rmse_fun(predicted, actual):\n",
    "    return np.sqrt(np.mean(np.square(predicted - actual)))\n",
    "\n",
    "rms = make_scorer(rmse_fun, greater_is_better=False)\n",
    "\n",
    "mymodels = [\n",
    "     ('XGBoost', xgb_model),\n",
    "     ('RandomForest', rf_model),\n",
    "     ('Ridge', ridge_model),\n",
    "     ('Lasso', lasso_model),\n",
    "     ('ElasticNet', enet_model),\n",
    "     ('KNN', knn_model)\n",
    "]\n",
    "\n",
    "scores = [\n",
    "    -1.0 * cross_val_score(model, x_train.values, y_train.values, scoring=rms, cv=5).mean()\n",
    "    for _,model in mymodels\n",
    "]\n",
    "\n",
    "dfs = pd.DataFrame({ 'Model': [name for name, _ in mymodels], 'Error (RMSE)': scores })\n",
    "dfs.plot(x='Model', kind='bar')"
   ]
  },
  {
   "cell_type": "code",
   "execution_count": 24,
   "id": "a52be38a",
   "metadata": {
    "execution": {
     "iopub.execute_input": "2022-10-01T15:29:46.373156Z",
     "iopub.status.busy": "2022-10-01T15:29:46.372255Z",
     "iopub.status.idle": "2022-10-01T15:29:46.384483Z",
     "shell.execute_reply": "2022-10-01T15:29:46.383360Z"
    },
    "papermill": {
     "duration": 0.028545,
     "end_time": "2022-10-01T15:29:46.386780",
     "exception": false,
     "start_time": "2022-10-01T15:29:46.358235",
     "status": "completed"
    },
    "tags": []
   },
   "outputs": [
    {
     "data": {
      "text/html": [
       "<div>\n",
       "<style scoped>\n",
       "    .dataframe tbody tr th:only-of-type {\n",
       "        vertical-align: middle;\n",
       "    }\n",
       "\n",
       "    .dataframe tbody tr th {\n",
       "        vertical-align: top;\n",
       "    }\n",
       "\n",
       "    .dataframe thead th {\n",
       "        text-align: right;\n",
       "    }\n",
       "</style>\n",
       "<table border=\"1\" class=\"dataframe\">\n",
       "  <thead>\n",
       "    <tr style=\"text-align: right;\">\n",
       "      <th></th>\n",
       "      <th>Model</th>\n",
       "      <th>Error (RMSE)</th>\n",
       "    </tr>\n",
       "  </thead>\n",
       "  <tbody>\n",
       "    <tr>\n",
       "      <th>0</th>\n",
       "      <td>XGBoost</td>\n",
       "      <td>0.096551</td>\n",
       "    </tr>\n",
       "    <tr>\n",
       "      <th>1</th>\n",
       "      <td>RandomForest</td>\n",
       "      <td>0.199670</td>\n",
       "    </tr>\n",
       "    <tr>\n",
       "      <th>2</th>\n",
       "      <td>Ridge</td>\n",
       "      <td>0.811771</td>\n",
       "    </tr>\n",
       "    <tr>\n",
       "      <th>3</th>\n",
       "      <td>Lasso</td>\n",
       "      <td>0.888539</td>\n",
       "    </tr>\n",
       "    <tr>\n",
       "      <th>4</th>\n",
       "      <td>ElasticNet</td>\n",
       "      <td>0.879554</td>\n",
       "    </tr>\n",
       "    <tr>\n",
       "      <th>5</th>\n",
       "      <td>KNN</td>\n",
       "      <td>0.611916</td>\n",
       "    </tr>\n",
       "  </tbody>\n",
       "</table>\n",
       "</div>"
      ],
      "text/plain": [
       "          Model  Error (RMSE)\n",
       "0       XGBoost      0.096551\n",
       "1  RandomForest      0.199670\n",
       "2         Ridge      0.811771\n",
       "3         Lasso      0.888539\n",
       "4    ElasticNet      0.879554\n",
       "5           KNN      0.611916"
      ]
     },
     "execution_count": 24,
     "metadata": {},
     "output_type": "execute_result"
    }
   ],
   "source": [
    "dfs"
   ]
  },
  {
   "cell_type": "markdown",
   "id": "8859ef2d",
   "metadata": {
    "papermill": {
     "duration": 0.012062,
     "end_time": "2022-10-01T15:29:46.411354",
     "exception": false,
     "start_time": "2022-10-01T15:29:46.399292",
     "status": "completed"
    },
    "tags": []
   },
   "source": [
    "**Score for XGB**"
   ]
  },
  {
   "cell_type": "code",
   "execution_count": 25,
   "id": "fc2a86f1",
   "metadata": {
    "execution": {
     "iopub.execute_input": "2022-10-01T15:29:46.437973Z",
     "iopub.status.busy": "2022-10-01T15:29:46.437523Z",
     "iopub.status.idle": "2022-10-01T15:30:47.406608Z",
     "shell.execute_reply": "2022-10-01T15:30:47.405335Z"
    },
    "papermill": {
     "duration": 60.994602,
     "end_time": "2022-10-01T15:30:47.418080",
     "exception": false,
     "start_time": "2022-10-01T15:29:46.423478",
     "status": "completed"
    },
    "tags": []
   },
   "outputs": [
    {
     "name": "stdout",
     "output_type": "stream",
     "text": [
      "[15:29:46] WARNING: ../src/objective/regression_obj.cu:203: reg:linear is now deprecated in favor of reg:squarederror.\n",
      "The score for xgb model is 0.08472249202494647\n"
     ]
    }
   ],
   "source": [
    "xgb_model.fit(x_train, y_train)\n",
    "y_pred_xgb = xgb_model.predict(x_test)\n",
    "print(\"The score for xgb model is \"+str(np.sqrt(mean_squared_error(y_test, y_pred_xgb))))"
   ]
  },
  {
   "cell_type": "code",
   "execution_count": 26,
   "id": "433734c7",
   "metadata": {
    "execution": {
     "iopub.execute_input": "2022-10-01T15:30:47.446558Z",
     "iopub.status.busy": "2022-10-01T15:30:47.446133Z",
     "iopub.status.idle": "2022-10-01T15:30:47.980184Z",
     "shell.execute_reply": "2022-10-01T15:30:47.978910Z"
    },
    "papermill": {
     "duration": 0.551869,
     "end_time": "2022-10-01T15:30:47.982934",
     "exception": false,
     "start_time": "2022-10-01T15:30:47.431065",
     "status": "completed"
    },
    "tags": []
   },
   "outputs": [
    {
     "name": "stderr",
     "output_type": "stream",
     "text": [
      "/opt/conda/lib/python3.7/site-packages/seaborn/distributions.py:2619: FutureWarning: `distplot` is a deprecated function and will be removed in a future version. Please adapt your code to use either `displot` (a figure-level function with similar flexibility) or `histplot` (an axes-level function for histograms).\n",
      "  warnings.warn(msg, FutureWarning)\n",
      "/opt/conda/lib/python3.7/site-packages/seaborn/distributions.py:2619: FutureWarning: `distplot` is a deprecated function and will be removed in a future version. Please adapt your code to use either `displot` (a figure-level function with similar flexibility) or `histplot` (an axes-level function for histograms).\n",
      "  warnings.warn(msg, FutureWarning)\n"
     ]
    },
    {
     "data": {
      "image/png": "[encoded data removed]",
      "text/plain": [
       "<Figure size 720x720 with 2 Axes>"
      ]
     },
     "metadata": {
      "needs_background": "light"
     },
     "output_type": "display_data"
    }
   ],
   "source": [
    "fig, ax = plt.subplots(nrows=2, sharex=True, sharey=True, figsize=(10,10))\n",
    "sns.distplot(y_pred_xgb, ax=ax[0], color='Red', label='validation xgb')\n",
    "sns.distplot(y_test, ax=ax[1], color='green', label='test')\n",
    "ax[0].legend(loc=0)\n",
    "ax[1].legend(loc=0)\n",
    "plt.show()"
   ]
  },
  {
   "cell_type": "markdown",
   "id": "52a715dc",
   "metadata": {
    "papermill": {
     "duration": 0.013059,
     "end_time": "2022-10-01T15:30:48.009903",
     "exception": false,
     "start_time": "2022-10-01T15:30:47.996844",
     "status": "completed"
    },
    "tags": []
   },
   "source": [
    "**Suggestions are welcome**"
   ]
  }
 ],
 "metadata": {
  "kernelspec": {
   "display_name": "Python 3",
   "language": "python",
   "name": "python3"
  },
  "language_info": {
   "codemirror_mode": {
    "name": "ipython",
    "version": 3
   },
   "file_extension": ".py",
   "mimetype": "text/x-python",
   "name": "python",
   "nbconvert_exporter": "python",
   "pygments_lexer": "ipython3",
   "version": "3.7.12"
  },
  "papermill": {
   "default_parameters": {},
   "duration": 1390.42929,
   "end_time": "2022-10-01T15:30:48.949837",
   "environment_variables": {},
   "exception": null,
   "input_path": "__notebook__.ipynb",
   "output_path": "__notebook__.ipynb",
   "parameters": {},
   "start_time": "2022-10-01T15:07:38.520547",
   "version": "2.3.4"
  }
 },
 "nbformat": 4,
 "nbformat_minor": 5
}
