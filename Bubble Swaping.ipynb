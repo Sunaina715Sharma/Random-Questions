{
 "cells": [
  {
   "cell_type": "code",
   "execution_count": 1,
   "id": "e6793920",
   "metadata": {},
   "outputs": [],
   "source": [
    "# CODE FOR BUBBLE SWAPPING\n",
    "\n",
    "Bubble sort is a sorting algorithm that compares two adjacent elements and swaps them until they\n",
    "are in the intended order.\n",
    "\n",
    "Just like the movement of air bubbles in the water that rise up to the surface, each element of\n",
    "the array move to the end in each iteration. Therefore, it is called a \n",
    "bubble sort."
   ]
  },
  {
   "cell_type": "code",
   "execution_count": 2,
   "id": "bfbc255e",
   "metadata": {},
   "outputs": [],
   "source": [
    "def bubswap(a):\n",
    "    b = len(a)-1;\n",
    "    for x in range(b):\n",
    "        for y in range(b-x):\n",
    "            a[y] = a[y+1]\n",
    "a = [5,1,4,2,8]\n",
    "bubswap(a)\n",
    "        "
   ]
  },
  {
   "cell_type": "code",
   "execution_count": 3,
   "id": "625b7d8d",
   "metadata": {},
   "outputs": [],
   "source": [
    "def bs(a):\n",
    "# a = name of list\n",
    "   b=len(a)-1; \n",
    "# minus 1 because we always compare 2 adjacent values\n",
    "   for x in range(b):\n",
    "        for y in range(b-x):\n",
    "              a[y]=a[y+1]\n",
    "   \n",
    "   a=[32,5,3,6,7,54,87]\n",
    "bs(a)\n"
   ]
  },
  {
   "cell_type": "code",
   "execution_count": null,
   "id": "34ebd750",
   "metadata": {},
   "outputs": [],
   "source": []
  }
 ],
 "metadata": {
  "kernelspec": {
   "display_name": "Python 3 (ipykernel)",
   "language": "python",
   "name": "python3"
  },
  "language_info": {
   "codemirror_mode": {
    "name": "ipython",
    "version": 3
   },
   "file_extension": ".py",
   "mimetype": "text/x-python",
   "name": "python",
   "nbconvert_exporter": "python",
   "pygments_lexer": "ipython3",
   "version": "3.9.7"
  }
 },
 "nbformat": 4,
 "nbformat_minor": 5
}
