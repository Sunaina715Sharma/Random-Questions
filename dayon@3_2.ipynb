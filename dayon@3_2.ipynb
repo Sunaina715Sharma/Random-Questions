{
 "cells": [
  {
   "cell_type": "code",
   "execution_count": 6,
   "id": "217e4703",
   "metadata": {},
   "outputs": [],
   "source": [
    "# WAC car, mileage,colour, maxspeed are the attributs and you need to print the result"
   ]
  },
  {
   "cell_type": "code",
   "execution_count": 1,
   "id": "4dd2980f",
   "metadata": {},
   "outputs": [
    {
     "name": "stdout",
     "output_type": "stream",
     "text": [
      "100\n",
      " the mileage of car is 13 and the colour is black with maximum speed as 120\n"
     ]
    }
   ],
   "source": [
    "class car:\n",
    "    car_type = \"sedan\"# we can have multiple class attribute\n",
    "    wheel_type = \"turbo\"\n",
    "    def __init__(self,mileage,colour,maxspeed):      # WE CAN PERAMETRISE THE CONSTRUCTOR AND WE CAN TAKE IT WITHOUT PARAMETERS WHICH WE WIIL DO LATTER\n",
    "        self.mileage = mileage # instance attribute\n",
    "        self.colour = colour\n",
    "        self.maxspeed = maxspeed\n",
    "    def show(self,x):\n",
    "        print(x)\n",
    "        print(f\" the mileage of car is {self.mileage} and the colour is {self.colour} with maximum speed as {self.maxspeed}\")\n",
    "c = car(13,\"black\",120)\n",
    "c.show(100)\n",
    "# print(c.car_type)\n",
    "# print(c.mileage,c.colour,c.maxspeed)"
   ]
  },
  {
   "cell_type": "code",
   "execution_count": null,
   "id": "8b1495b1",
   "metadata": {},
   "outputs": [],
   "source": []
  }
 ],
 "metadata": {
  "kernelspec": {
   "display_name": "Python 3 (ipykernel)",
   "language": "python",
   "name": "python3"
  },
  "language_info": {
   "codemirror_mode": {
    "name": "ipython",
    "version": 3
   },
   "file_extension": ".py",
   "mimetype": "text/x-python",
   "name": "python",
   "nbconvert_exporter": "python",
   "pygments_lexer": "ipython3",
   "version": "3.9.7"
  }
 },
 "nbformat": 4,
 "nbformat_minor": 5
}
